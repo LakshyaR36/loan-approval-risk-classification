{
 "cells": [
  {
   "cell_type": "code",
   "execution_count": 1,
   "id": "93e27920",
   "metadata": {},
   "outputs": [],
   "source": [
    "import numpy as np\n",
    "import pandas as pd"
   ]
  },
  {
   "cell_type": "code",
   "execution_count": 2,
   "id": "fd9ced10",
   "metadata": {},
   "outputs": [],
   "source": [
    "df1 = pd.read_excel('case_study1.xlsx')\n",
    "df2 = pd.read_excel('case_study2.xlsx')"
   ]
  },
  {
   "cell_type": "code",
   "execution_count": 8,
   "id": "5f917f45",
   "metadata": {},
   "outputs": [],
   "source": [
    "import matplotlib.pyplot as plt\n",
    "from sklearn.metrics import r2_score\n",
    "from scipy.stats import chi2_contingency\n",
    "from statsmodels.stats.outliers_influence import variance_inflation_factor\n",
    "from sklearn.model_selection import train_test_split\n",
    "from sklearn.ensemble import RandomForestClassifier\n",
    "from sklearn.metrics import accuracy_score , classification_report , precision_recall_fscore_support"
   ]
  },
  {
   "cell_type": "code",
   "execution_count": 13,
   "id": "a2c5071c",
   "metadata": {},
   "outputs": [
    {
     "data": {
      "text/plain": [
       "((51296, 26), (51336, 62))"
      ]
     },
     "execution_count": 13,
     "metadata": {},
     "output_type": "execute_result"
    }
   ],
   "source": [
    "df1.shape, df2.shape"
   ]
  },
  {
   "cell_type": "code",
   "execution_count": 12,
   "id": "899ec3df",
   "metadata": {},
   "outputs": [],
   "source": [
    "##removing nulls\n",
    "df1 = df1.loc[df1['Age_Oldest_TL'] != -99999]"
   ]
  },
  {
   "cell_type": "code",
   "execution_count": null,
   "id": "6f68dc91",
   "metadata": {},
   "outputs": [],
   "source": [
    "##checking for nulls in df2 in each column more than 10000 times\n",
    "columns_to_be_removed = []\n",
    "for i in df2.columns:\n",
    "    if df2.loc[df2[i] == -99999].shape[0] > 10000:\n",
    "        columns_to_be_removed.append(i)"
   ]
  },
  {
   "cell_type": "code",
   "execution_count": 15,
   "id": "03aece07",
   "metadata": {},
   "outputs": [
    {
     "data": {
      "text/plain": [
       "['time_since_first_deliquency',\n",
       " 'time_since_recent_deliquency',\n",
       " 'max_delinquency_level',\n",
       " 'max_deliq_6mts',\n",
       " 'max_deliq_12mts',\n",
       " 'CC_utilization',\n",
       " 'PL_utilization',\n",
       " 'max_unsec_exposure_inPct']"
      ]
     },
     "execution_count": 15,
     "metadata": {},
     "output_type": "execute_result"
    }
   ],
   "source": [
    "columns_to_be_removed"
   ]
  },
  {
   "cell_type": "code",
   "execution_count": 17,
   "id": "dd024968",
   "metadata": {},
   "outputs": [],
   "source": [
    "df2=df2.drop(columns_to_be_removed, axis=1)"
   ]
  },
  {
   "cell_type": "code",
   "execution_count": null,
   "id": "d5620ced",
   "metadata": {},
   "outputs": [
    {
     "data": {
      "text/plain": [
       "(42066, 54)"
      ]
     },
     "execution_count": 20,
     "metadata": {},
     "output_type": "execute_result"
    }
   ],
   "source": [
    "df2.shape"
   ]
  },
  {
   "cell_type": "code",
   "execution_count": 19,
   "id": "0c6c9260",
   "metadata": {},
   "outputs": [],
   "source": [
    "for i in df2.columns:\n",
    "    df2 = df2.loc[df2[i] != -99999]"
   ]
  },
  {
   "cell_type": "code",
   "execution_count": 21,
   "id": "6d2637b5",
   "metadata": {},
   "outputs": [
    {
     "data": {
      "text/plain": [
       "PROSPECTID                    0\n",
       "time_since_recent_payment     0\n",
       "num_times_delinquent          0\n",
       "max_recent_level_of_deliq     0\n",
       "num_deliq_6mts                0\n",
       "num_deliq_12mts               0\n",
       "num_deliq_6_12mts             0\n",
       "num_times_30p_dpd             0\n",
       "num_times_60p_dpd             0\n",
       "num_std                       0\n",
       "num_std_6mts                  0\n",
       "num_std_12mts                 0\n",
       "num_sub                       0\n",
       "num_sub_6mts                  0\n",
       "num_sub_12mts                 0\n",
       "num_dbt                       0\n",
       "num_dbt_6mts                  0\n",
       "num_dbt_12mts                 0\n",
       "num_lss                       0\n",
       "num_lss_6mts                  0\n",
       "num_lss_12mts                 0\n",
       "recent_level_of_deliq         0\n",
       "tot_enq                       0\n",
       "CC_enq                        0\n",
       "CC_enq_L6m                    0\n",
       "CC_enq_L12m                   0\n",
       "PL_enq                        0\n",
       "PL_enq_L6m                    0\n",
       "PL_enq_L12m                   0\n",
       "time_since_recent_enq         0\n",
       "enq_L12m                      0\n",
       "enq_L6m                       0\n",
       "enq_L3m                       0\n",
       "MARITALSTATUS                 0\n",
       "EDUCATION                     0\n",
       "AGE                           0\n",
       "GENDER                        0\n",
       "NETMONTHLYINCOME              0\n",
       "Time_With_Curr_Empr           0\n",
       "pct_of_active_TLs_ever        0\n",
       "pct_opened_TLs_L6m_of_L12m    0\n",
       "pct_currentBal_all_TL         0\n",
       "CC_Flag                       0\n",
       "PL_Flag                       0\n",
       "pct_PL_enq_L6m_of_L12m        0\n",
       "pct_CC_enq_L6m_of_L12m        0\n",
       "pct_PL_enq_L6m_of_ever        0\n",
       "pct_CC_enq_L6m_of_ever        0\n",
       "HL_Flag                       0\n",
       "GL_Flag                       0\n",
       "last_prod_enq2                0\n",
       "first_prod_enq2               0\n",
       "Credit_Score                  0\n",
       "Approved_Flag                 0\n",
       "dtype: int64"
      ]
     },
     "execution_count": 21,
     "metadata": {},
     "output_type": "execute_result"
    }
   ],
   "source": [
    "df2.isna().sum()"
   ]
  },
  {
   "cell_type": "code",
   "execution_count": 24,
   "id": "e8aa64d6",
   "metadata": {},
   "outputs": [],
   "source": [
    "##merged DataSet\n",
    "df = pd.merge(df1 , df2 , how='inner' , left_on=['PROSPECTID'] , right_on=['PROSPECTID'])"
   ]
  },
  {
   "cell_type": "code",
   "execution_count": 26,
   "id": "305f4ee7",
   "metadata": {},
   "outputs": [
    {
     "data": {
      "text/plain": [
       "0"
      ]
     },
     "execution_count": 26,
     "metadata": {},
     "output_type": "execute_result"
    }
   ],
   "source": [
    "df.isna().sum().sum()"
   ]
  },
  {
   "cell_type": "code",
   "execution_count": 27,
   "id": "4806652f",
   "metadata": {},
   "outputs": [
    {
     "data": {
      "text/plain": [
       "(42064, 79)"
      ]
     },
     "execution_count": 27,
     "metadata": {},
     "output_type": "execute_result"
    }
   ],
   "source": [
    "df.shape"
   ]
  },
  {
   "cell_type": "code",
   "execution_count": 29,
   "id": "9f4b5e40",
   "metadata": {},
   "outputs": [
    {
     "data": {
      "text/plain": [
       "['MARITALSTATUS',\n",
       " 'EDUCATION',\n",
       " 'GENDER',\n",
       " 'last_prod_enq2',\n",
       " 'first_prod_enq2',\n",
       " 'Approved_Flag']"
      ]
     },
     "execution_count": 29,
     "metadata": {},
     "output_type": "execute_result"
    }
   ],
   "source": [
    "##checking fot categorical columns\n",
    "categorical_columns = []\n",
    "for i in df.columns:\n",
    "    if df[i].dtype == 'object':\n",
    "        categorical_columns.append(i)\n",
    "\n",
    "categorical_columns"
   ]
  },
  {
   "cell_type": "code",
   "execution_count": 31,
   "id": "211f8eed",
   "metadata": {},
   "outputs": [],
   "source": [
    "from scipy.stats import chi2_contingency"
   ]
  },
  {
   "cell_type": "code",
   "execution_count": 33,
   "id": "d1cb1a67",
   "metadata": {},
   "outputs": [
    {
     "name": "stdout",
     "output_type": "stream",
     "text": [
      "MARITALSTATUS --- 3.578180861038862e-233\n",
      "EDUCATION --- 2.6942265249737532e-30\n",
      "GENDER --- 1.907936100186563e-05\n",
      "last_prod_enq2 --- 0.0\n",
      "first_prod_enq2 --- 7.84997610555419e-287\n",
      "Approved_Flag --- 0.0\n"
     ]
    }
   ],
   "source": [
    "for i in categorical_columns:\n",
    "    chi2 , pval , _, _ = chi2_contingency(pd.crosstab(df[i], df['Approved_Flag']))\n",
    "    print(i , '---' , pval)\n",
    "##all the categroical features have pval<=0.05 , we accept all"
   ]
  },
  {
   "cell_type": "code",
   "execution_count": 38,
   "id": "d90071e2",
   "metadata": {},
   "outputs": [
    {
     "data": {
      "text/plain": [
       "72"
      ]
     },
     "execution_count": 38,
     "metadata": {},
     "output_type": "execute_result"
    }
   ],
   "source": [
    "##checking fot numerical columns\n",
    "numerical_columns = []\n",
    "for i in df.columns:\n",
    "    if df[i].dtype != 'object' and i not in ['Approved_Flag', 'PROSPECTID']:\n",
    "        numerical_columns.append(i)\n",
    "\n",
    "len(numerical_columns)"
   ]
  },
  {
   "cell_type": "code",
   "execution_count": 42,
   "id": "b6ad2998",
   "metadata": {},
   "outputs": [
    {
     "name": "stderr",
     "output_type": "stream",
     "text": [
      "c:\\Users\\FUSION\\anaconda3\\Lib\\site-packages\\statsmodels\\stats\\outliers_influence.py:197: RuntimeWarning: divide by zero encountered in scalar divide\n",
      "  vif = 1. / (1. - r_squared_i)\n"
     ]
    },
    {
     "name": "stdout",
     "output_type": "stream",
     "text": [
      "0 --- inf\n"
     ]
    },
    {
     "name": "stderr",
     "output_type": "stream",
     "text": [
      "c:\\Users\\FUSION\\anaconda3\\Lib\\site-packages\\statsmodels\\stats\\outliers_influence.py:197: RuntimeWarning: divide by zero encountered in scalar divide\n",
      "  vif = 1. / (1. - r_squared_i)\n"
     ]
    },
    {
     "name": "stdout",
     "output_type": "stream",
     "text": [
      "0 --- inf\n",
      "0 --- 11.320180023967996\n",
      "0 --- 8.363698035000336\n",
      "0 --- 6.520647877790928\n",
      "0 --- 5.149501618212625\n",
      "1 --- 2.611111040579735\n"
     ]
    },
    {
     "name": "stderr",
     "output_type": "stream",
     "text": [
      "c:\\Users\\FUSION\\anaconda3\\Lib\\site-packages\\statsmodels\\stats\\outliers_influence.py:197: RuntimeWarning: divide by zero encountered in scalar divide\n",
      "  vif = 1. / (1. - r_squared_i)\n"
     ]
    },
    {
     "name": "stdout",
     "output_type": "stream",
     "text": [
      "2 --- inf\n",
      "2 --- 1788.7926256209232\n",
      "2 --- 8.601028256477228\n",
      "2 --- 3.8328007921530785\n",
      "3 --- 6.099653381646739\n",
      "3 --- 5.5813520096427585\n",
      "4 --- 1.985584353098778\n"
     ]
    },
    {
     "name": "stderr",
     "output_type": "stream",
     "text": [
      "c:\\Users\\FUSION\\anaconda3\\Lib\\site-packages\\statsmodels\\stats\\outliers_influence.py:197: RuntimeWarning: divide by zero encountered in scalar divide\n",
      "  vif = 1. / (1. - r_squared_i)\n"
     ]
    },
    {
     "name": "stdout",
     "output_type": "stream",
     "text": [
      "5 --- inf\n",
      "5 --- 4.809538302819343\n",
      "6 --- 23.270628983464636\n",
      "6 --- 30.595522588100053\n",
      "6 --- 4.3843464059655854\n",
      "7 --- 3.0646584155234238\n",
      "8 --- 2.898639771299253\n",
      "9 --- 4.377876915347322\n",
      "10 --- 2.2078535836958433\n",
      "11 --- 4.916914200506864\n",
      "12 --- 5.2147020300647275\n",
      "13 --- 3.3861625024231476\n",
      "14 --- 7.840583309478997\n",
      "14 --- 5.255034641721438\n"
     ]
    },
    {
     "name": "stderr",
     "output_type": "stream",
     "text": [
      "c:\\Users\\FUSION\\anaconda3\\Lib\\site-packages\\statsmodels\\stats\\outliers_influence.py:197: RuntimeWarning: divide by zero encountered in scalar divide\n",
      "  vif = 1. / (1. - r_squared_i)\n"
     ]
    },
    {
     "name": "stdout",
     "output_type": "stream",
     "text": [
      "15 --- inf\n",
      "15 --- 7.380634506427232\n",
      "15 --- 1.4210050015175733\n",
      "16 --- 8.083255010190316\n",
      "16 --- 1.624122752404011\n",
      "17 --- 7.257811920140003\n",
      "17 --- 15.59624383268298\n",
      "17 --- 1.825857047132431\n",
      "18 --- 1.5080839450032664\n",
      "19 --- 2.172088834824578\n",
      "20 --- 2.6233975535272274\n",
      "21 --- 2.2959970812106167\n",
      "22 --- 7.360578319196446\n",
      "22 --- 2.1602387773102554\n",
      "23 --- 2.8686288267891467\n",
      "24 --- 6.458218003637277\n",
      "24 --- 2.8474118865638265\n",
      "25 --- 4.7531981562840855\n",
      "26 --- 16.22735475594825\n",
      "26 --- 6.424377256363877\n",
      "26 --- 8.887080381808687\n",
      "26 --- 2.3804746142952653\n",
      "27 --- 8.60951347651454\n",
      "27 --- 13.06755093547673\n",
      "27 --- 3.500040056654654\n",
      "28 --- 1.9087955874813773\n",
      "29 --- 17.006562234161628\n",
      "29 --- 10.730485153719197\n",
      "29 --- 2.3538497522950275\n",
      "30 --- 22.104855915136433\n",
      "30 --- 2.7971639638512906\n",
      "31 --- 3.424171203217696\n",
      "32 --- 10.175021454450922\n",
      "32 --- 6.408710354561301\n",
      "32 --- 1.001151196262562\n",
      "33 --- 3.069197305397274\n",
      "34 --- 2.8091261600643715\n",
      "35 --- 20.249538381980678\n",
      "35 --- 15.864576541593774\n",
      "35 --- 1.8331649740532172\n",
      "36 --- 1.5680839909542037\n",
      "37 --- 1.9307572353811682\n",
      "38 --- 4.331265056645247\n",
      "39 --- 9.390334396150173\n"
     ]
    },
    {
     "data": {
      "text/plain": [
       "['pct_tl_open_L6M',\n",
       " 'pct_tl_closed_L6M',\n",
       " 'Tot_TL_closed_L12M',\n",
       " 'pct_tl_closed_L12M',\n",
       " 'Tot_Missed_Pmnt',\n",
       " 'CC_TL',\n",
       " 'Home_TL',\n",
       " 'PL_TL',\n",
       " 'Secured_TL',\n",
       " 'Unsecured_TL',\n",
       " 'Other_TL',\n",
       " 'Age_Oldest_TL',\n",
       " 'Age_Newest_TL',\n",
       " 'time_since_recent_payment',\n",
       " 'max_recent_level_of_deliq',\n",
       " 'num_deliq_6_12mts',\n",
       " 'num_times_60p_dpd',\n",
       " 'num_std_12mts',\n",
       " 'num_sub',\n",
       " 'num_sub_6mts',\n",
       " 'num_sub_12mts',\n",
       " 'num_dbt',\n",
       " 'num_dbt_12mts',\n",
       " 'num_lss',\n",
       " 'num_lss_12mts',\n",
       " 'recent_level_of_deliq',\n",
       " 'CC_enq_L12m',\n",
       " 'PL_enq_L12m',\n",
       " 'time_since_recent_enq',\n",
       " 'enq_L3m',\n",
       " 'NETMONTHLYINCOME',\n",
       " 'Time_With_Curr_Empr',\n",
       " 'pct_currentBal_all_TL',\n",
       " 'CC_Flag',\n",
       " 'PL_Flag',\n",
       " 'pct_PL_enq_L6m_of_ever',\n",
       " 'pct_CC_enq_L6m_of_ever',\n",
       " 'HL_Flag',\n",
       " 'GL_Flag']"
      ]
     },
     "execution_count": 42,
     "metadata": {},
     "output_type": "execute_result"
    }
   ],
   "source": [
    "##removing inter correlated features\n",
    "vif_data = df[numerical_columns]\n",
    "total_columns = vif_data.shape[1]\n",
    "columns_to_be_kept = []\n",
    "column_index = 0\n",
    "for i in range(0, total_columns):\n",
    "    vif_value = variance_inflation_factor(vif_data , column_index)\n",
    "    print(column_index , '---', vif_value)\n",
    "\n",
    "    if vif_value <= 6:\n",
    "        columns_to_be_kept.append(numerical_columns[i])\n",
    "        column_index += 1\n",
    "    else:\n",
    "        vif_data = vif_data.drop([numerical_columns[i]], axis=1)\n",
    "columns_to_be_kept"
   ]
  },
  {
   "cell_type": "code",
   "execution_count": 43,
   "id": "32b532d4",
   "metadata": {},
   "outputs": [
    {
     "data": {
      "text/plain": [
       "39"
      ]
     },
     "execution_count": 43,
     "metadata": {},
     "output_type": "execute_result"
    }
   ],
   "source": [
    "len(columns_to_be_kept)"
   ]
  },
  {
   "cell_type": "code",
   "execution_count": 44,
   "id": "ccb6aed7",
   "metadata": {},
   "outputs": [],
   "source": [
    "##Annova test\n",
    "from scipy.stats import f_oneway\n",
    "columns_to_be_kept_numerical = []\n",
    "for i in columns_to_be_kept:\n",
    "    a = list(df[i])\n",
    "    b = list(df['Approved_Flag'])\n",
    "    group_p1 = [value for value , group in zip(a, b) if group == 'P1']\n",
    "    group_p2 = [value for value , group in zip(a, b) if group == 'P2']\n",
    "    group_p3 = [value for value , group in zip(a, b) if group == 'P3']\n",
    "    group_p4 = [value for value , group in zip(a, b) if group == 'P4']\n",
    "\n",
    "    f_statistic, p_value = f_oneway(group_p1, group_p2, group_p3, group_p4)\n",
    "    if p_value <= 0.05:\n",
    "        columns_to_be_kept_numerical.append(i)"
   ]
  },
  {
   "cell_type": "code",
   "execution_count": 45,
   "id": "8687e91d",
   "metadata": {},
   "outputs": [
    {
     "data": {
      "text/plain": [
       "37"
      ]
     },
     "execution_count": 45,
     "metadata": {},
     "output_type": "execute_result"
    }
   ],
   "source": [
    "len(columns_to_be_kept_numerical)"
   ]
  },
  {
   "cell_type": "code",
   "execution_count": 46,
   "id": "1e776cd3",
   "metadata": {},
   "outputs": [],
   "source": [
    "df.loc[df['EDUCATION']=='SSC' , ['EDUCATION']] = 1\n",
    "df.loc[df['EDUCATION']=='12TH' , ['EDUCATION']] = 2\n",
    "df.loc[df['EDUCATION']=='GRADUATE' , ['EDUCATION']] = 3\n",
    "df.loc[df['EDUCATION']=='UNDER GRADUATE' , ['EDUCATION']] = 3\n",
    "df.loc[df['EDUCATION']=='POST-GRADUATE' , ['EDUCATION']] = 4\n",
    "df.loc[df['EDUCATION']=='OTHERS' , ['EDUCATION']] = 1\n",
    "df.loc[df['EDUCATION']=='PROFESSIONAL' , ['EDUCATION']] = 3"
   ]
  },
  {
   "cell_type": "code",
   "execution_count": 47,
   "id": "628909b4",
   "metadata": {},
   "outputs": [
    {
     "data": {
      "text/plain": [
       "EDUCATION\n",
       "3    18931\n",
       "2    11703\n",
       "1     9532\n",
       "4     1898\n",
       "Name: count, dtype: int64"
      ]
     },
     "execution_count": 47,
     "metadata": {},
     "output_type": "execute_result"
    }
   ],
   "source": [
    "df['EDUCATION'].value_counts()"
   ]
  },
  {
   "cell_type": "code",
   "execution_count": 48,
   "id": "8a5cec85",
   "metadata": {},
   "outputs": [],
   "source": [
    "df['EDUCATION'] = df['EDUCATION'].astype(int)"
   ]
  },
  {
   "cell_type": "code",
   "execution_count": null,
   "id": "77ab6c0f",
   "metadata": {},
   "outputs": [
    {
     "name": "stdout",
     "output_type": "stream",
     "text": [
      "<class 'pandas.core.frame.DataFrame'>\n",
      "RangeIndex: 42064 entries, 0 to 42063\n",
      "Data columns (total 79 columns):\n",
      " #   Column                      Non-Null Count  Dtype  \n",
      "---  ------                      --------------  -----  \n",
      " 0   PROSPECTID                  42064 non-null  int64  \n",
      " 1   Total_TL                    42064 non-null  int64  \n",
      " 2   Tot_Closed_TL               42064 non-null  int64  \n",
      " 3   Tot_Active_TL               42064 non-null  int64  \n",
      " 4   Total_TL_opened_L6M         42064 non-null  int64  \n",
      " 5   Tot_TL_closed_L6M           42064 non-null  int64  \n",
      " 6   pct_tl_open_L6M             42064 non-null  float64\n",
      " 7   pct_tl_closed_L6M           42064 non-null  float64\n",
      " 8   pct_active_tl               42064 non-null  float64\n",
      " 9   pct_closed_tl               42064 non-null  float64\n",
      " 10  Total_TL_opened_L12M        42064 non-null  int64  \n",
      " 11  Tot_TL_closed_L12M          42064 non-null  int64  \n",
      " 12  pct_tl_open_L12M            42064 non-null  float64\n",
      " 13  pct_tl_closed_L12M          42064 non-null  float64\n",
      " 14  Tot_Missed_Pmnt             42064 non-null  int64  \n",
      " 15  Auto_TL                     42064 non-null  int64  \n",
      " 16  CC_TL                       42064 non-null  int64  \n",
      " 17  Consumer_TL                 42064 non-null  int64  \n",
      " 18  Gold_TL                     42064 non-null  int64  \n",
      " 19  Home_TL                     42064 non-null  int64  \n",
      " 20  PL_TL                       42064 non-null  int64  \n",
      " 21  Secured_TL                  42064 non-null  int64  \n",
      " 22  Unsecured_TL                42064 non-null  int64  \n",
      " 23  Other_TL                    42064 non-null  int64  \n",
      " 24  Age_Oldest_TL               42064 non-null  int64  \n",
      " 25  Age_Newest_TL               42064 non-null  int64  \n",
      " 26  time_since_recent_payment   42064 non-null  int64  \n",
      " 27  num_times_delinquent        42064 non-null  int64  \n",
      " 28  max_recent_level_of_deliq   42064 non-null  int64  \n",
      " 29  num_deliq_6mts              42064 non-null  int64  \n",
      " 30  num_deliq_12mts             42064 non-null  int64  \n",
      " 31  num_deliq_6_12mts           42064 non-null  int64  \n",
      " 32  num_times_30p_dpd           42064 non-null  int64  \n",
      " 33  num_times_60p_dpd           42064 non-null  int64  \n",
      " 34  num_std                     42064 non-null  int64  \n",
      " 35  num_std_6mts                42064 non-null  int64  \n",
      " 36  num_std_12mts               42064 non-null  int64  \n",
      " 37  num_sub                     42064 non-null  int64  \n",
      " 38  num_sub_6mts                42064 non-null  int64  \n",
      " 39  num_sub_12mts               42064 non-null  int64  \n",
      " 40  num_dbt                     42064 non-null  int64  \n",
      " 41  num_dbt_6mts                42064 non-null  int64  \n",
      " 42  num_dbt_12mts               42064 non-null  int64  \n",
      " 43  num_lss                     42064 non-null  int64  \n",
      " 44  num_lss_6mts                42064 non-null  int64  \n",
      " 45  num_lss_12mts               42064 non-null  int64  \n",
      " 46  recent_level_of_deliq       42064 non-null  int64  \n",
      " 47  tot_enq                     42064 non-null  int64  \n",
      " 48  CC_enq                      42064 non-null  int64  \n",
      " 49  CC_enq_L6m                  42064 non-null  int64  \n",
      " 50  CC_enq_L12m                 42064 non-null  int64  \n",
      " 51  PL_enq                      42064 non-null  int64  \n",
      " 52  PL_enq_L6m                  42064 non-null  int64  \n",
      " 53  PL_enq_L12m                 42064 non-null  int64  \n",
      " 54  time_since_recent_enq       42064 non-null  int64  \n",
      " 55  enq_L12m                    42064 non-null  int64  \n",
      " 56  enq_L6m                     42064 non-null  int64  \n",
      " 57  enq_L3m                     42064 non-null  int64  \n",
      " 58  MARITALSTATUS               42064 non-null  object \n",
      " 59  EDUCATION                   42064 non-null  int32  \n",
      " 60  AGE                         42064 non-null  int64  \n",
      " 61  GENDER                      42064 non-null  object \n",
      " 62  NETMONTHLYINCOME            42064 non-null  int64  \n",
      " 63  Time_With_Curr_Empr         42064 non-null  int64  \n",
      " 64  pct_of_active_TLs_ever      42064 non-null  float64\n",
      " 65  pct_opened_TLs_L6m_of_L12m  42064 non-null  float64\n",
      " 66  pct_currentBal_all_TL       42064 non-null  float64\n",
      " 67  CC_Flag                     42064 non-null  int64  \n",
      " 68  PL_Flag                     42064 non-null  int64  \n",
      " 69  pct_PL_enq_L6m_of_L12m      42064 non-null  float64\n",
      " 70  pct_CC_enq_L6m_of_L12m      42064 non-null  float64\n",
      " 71  pct_PL_enq_L6m_of_ever      42064 non-null  float64\n",
      " 72  pct_CC_enq_L6m_of_ever      42064 non-null  float64\n",
      " 73  HL_Flag                     42064 non-null  int64  \n",
      " 74  GL_Flag                     42064 non-null  int64  \n",
      " 75  last_prod_enq2              42064 non-null  object \n",
      " 76  first_prod_enq2             42064 non-null  object \n",
      " 77  Credit_Score                42064 non-null  int64  \n",
      " 78  Approved_Flag               42064 non-null  object \n",
      "dtypes: float64(13), int32(1), int64(60), object(5)\n",
      "memory usage: 25.2+ MB\n"
     ]
    }
   ],
   "source": [
    "df.info()"
   ]
  },
  {
   "cell_type": "code",
   "execution_count": 59,
   "id": "2aa2d323",
   "metadata": {},
   "outputs": [],
   "source": [
    "df_encoded = pd.get_dummies(df , columns=['MARITALSTATUS' , 'GENDER' , 'last_prod_enq2' , 'first_prod_enq2'])"
   ]
  },
  {
   "cell_type": "code",
   "execution_count": 63,
   "id": "1e79f32a",
   "metadata": {},
   "outputs": [
    {
     "data": {
      "text/plain": [
       "Index(['PROSPECTID', 'Total_TL', 'Tot_Closed_TL', 'Tot_Active_TL',\n",
       "       'Total_TL_opened_L6M', 'Tot_TL_closed_L6M', 'pct_tl_open_L6M',\n",
       "       'pct_tl_closed_L6M', 'pct_active_tl', 'pct_closed_tl',\n",
       "       'Total_TL_opened_L12M', 'Tot_TL_closed_L12M', 'pct_tl_open_L12M',\n",
       "       'pct_tl_closed_L12M', 'Tot_Missed_Pmnt', 'Auto_TL', 'CC_TL',\n",
       "       'Consumer_TL', 'Gold_TL', 'Home_TL', 'PL_TL', 'Secured_TL',\n",
       "       'Unsecured_TL', 'Other_TL', 'Age_Oldest_TL', 'Age_Newest_TL',\n",
       "       'time_since_recent_payment', 'num_times_delinquent',\n",
       "       'max_recent_level_of_deliq', 'num_deliq_6mts', 'num_deliq_12mts',\n",
       "       'num_deliq_6_12mts', 'num_times_30p_dpd', 'num_times_60p_dpd',\n",
       "       'num_std', 'num_std_6mts', 'num_std_12mts', 'num_sub', 'num_sub_6mts',\n",
       "       'num_sub_12mts', 'num_dbt', 'num_dbt_6mts', 'num_dbt_12mts', 'num_lss',\n",
       "       'num_lss_6mts', 'num_lss_12mts', 'recent_level_of_deliq', 'tot_enq',\n",
       "       'CC_enq', 'CC_enq_L6m', 'CC_enq_L12m', 'PL_enq', 'PL_enq_L6m',\n",
       "       'PL_enq_L12m', 'time_since_recent_enq', 'enq_L12m', 'enq_L6m',\n",
       "       'enq_L3m', 'EDUCATION', 'AGE', 'NETMONTHLYINCOME',\n",
       "       'Time_With_Curr_Empr', 'pct_of_active_TLs_ever',\n",
       "       'pct_opened_TLs_L6m_of_L12m', 'pct_currentBal_all_TL', 'CC_Flag',\n",
       "       'PL_Flag', 'pct_PL_enq_L6m_of_L12m', 'pct_CC_enq_L6m_of_L12m',\n",
       "       'pct_PL_enq_L6m_of_ever', 'pct_CC_enq_L6m_of_ever', 'HL_Flag',\n",
       "       'GL_Flag', 'Credit_Score', 'Approved_Flag', 'MARITALSTATUS_Married',\n",
       "       'MARITALSTATUS_Single', 'GENDER_F', 'GENDER_M', 'last_prod_enq2_AL',\n",
       "       'last_prod_enq2_CC', 'last_prod_enq2_ConsumerLoan', 'last_prod_enq2_HL',\n",
       "       'last_prod_enq2_PL', 'last_prod_enq2_others', 'first_prod_enq2_AL',\n",
       "       'first_prod_enq2_CC', 'first_prod_enq2_ConsumerLoan',\n",
       "       'first_prod_enq2_HL', 'first_prod_enq2_PL', 'first_prod_enq2_others'],\n",
       "      dtype='object')"
      ]
     },
     "execution_count": 63,
     "metadata": {},
     "output_type": "execute_result"
    }
   ],
   "source": [
    "df_encoded.columns"
   ]
  },
  {
   "cell_type": "code",
   "execution_count": 66,
   "id": "904b2922",
   "metadata": {},
   "outputs": [],
   "source": [
    "from sklearn.model_selection import train_test_split\n",
    "y = df_encoded['Approved_Flag']\n",
    "x = df_encoded.drop(['Approved_Flag'] , axis=1)"
   ]
  },
  {
   "cell_type": "code",
   "execution_count": 79,
   "id": "fa0e9a3f",
   "metadata": {},
   "outputs": [],
   "source": [
    "x_train , x_test , y_train , y_test = train_test_split(x, y , test_size=0.2, random_state=42)\n",
    "rf = RandomForestClassifier(n_estimators=200, random_state=42)\n",
    "rf.fit(x_train, y_train)\n",
    "y_pred = rf.predict(x_test)"
   ]
  },
  {
   "cell_type": "code",
   "execution_count": 80,
   "id": "205c8b23",
   "metadata": {},
   "outputs": [
    {
     "name": "stdout",
     "output_type": "stream",
     "text": [
      "Accuracy: 0.9900154522762391\n"
     ]
    }
   ],
   "source": [
    "accuracy = accuracy_score(y_test, y_pred)\n",
    "print(\"Accuracy:\", accuracy)\n",
    "precision , recall , f1_score, _ = precision_recall_fscore_support(y_test, y_pred)"
   ]
  },
  {
   "cell_type": "code",
   "execution_count": 81,
   "id": "cd754d9c",
   "metadata": {},
   "outputs": [
    {
     "name": "stdout",
     "output_type": "stream",
     "text": [
      "Classp1:\n",
      "Preision : 0.9465290806754222\n",
      "Recall : 0.995069033530572\n",
      "F1 Score : 0.9701923076923077\n",
      "\n",
      "Classp2:\n",
      "Preision : 0.9954617205998422\n",
      "Recall : 1.0\n",
      "F1 Score : 0.9977256995945812\n",
      "\n",
      "Classp3:\n",
      "Preision : 0.9968102073365231\n",
      "Recall : 0.9433962264150944\n",
      "F1 Score : 0.9693679720822024\n",
      "\n",
      "Classp4:\n",
      "Preision : 1.0\n",
      "Recall : 0.9961127308066083\n",
      "F1 Score : 0.9980525803310614\n",
      "\n"
     ]
    }
   ],
   "source": [
    "for i , v in enumerate(['p1' , 'p2' , 'p3' , 'p4']):\n",
    "    print(f\"Class{v}:\")\n",
    "    print(f\"Preision : {precision[i]}\")\n",
    "    print(f\"Recall : {recall[i]}\")\n",
    "    print(f\"F1 Score : {f1_score[i]}\")\n",
    "    print()"
   ]
  },
  {
   "cell_type": "code",
   "execution_count": 99,
   "id": "d1cc6c43",
   "metadata": {},
   "outputs": [],
   "source": [
    "import xgboost as xgb\n",
    "from sklearn.preprocessing import LabelEncoder\n",
    "xgb_classifier = xgb.XGBClassifier(objective='multi:softmax', num_class=4)\n",
    "y_xgb = df_encoded['Approved_Flag']\n",
    "x_xgb = df_encoded.drop(['Approved_Flag'] , axis=1)\n",
    "label_encoder = LabelEncoder()\n",
    "y_encoded = label_encoder.fit_transform(y_xgb)\n",
    "x_train , x_test , y_train , y_test = train_test_split(x_xgb, y_encoded , test_size=0.5, random_state=42)\n",
    "xgb_classifier.fit(x_train, y_train)\n",
    "y_pred_xgb = xgb_classifier.predict(x_test)"
   ]
  },
  {
   "cell_type": "code",
   "execution_count": 100,
   "id": "7c67fd03",
   "metadata": {},
   "outputs": [
    {
     "name": "stdout",
     "output_type": "stream",
     "text": [
      "Accuracy: 0.9999524534043363\n"
     ]
    }
   ],
   "source": [
    "accuracy = accuracy_score(y_test, y_pred_xgb)\n",
    "print(\"Accuracy:\", accuracy)\n",
    "precision , recall , f1_score, _ = precision_recall_fscore_support(y_test, y_pred_xgb)"
   ]
  },
  {
   "cell_type": "code",
   "execution_count": 101,
   "id": "436fcab0",
   "metadata": {},
   "outputs": [
    {
     "name": "stdout",
     "output_type": "stream",
     "text": [
      "Classp1:\n",
      "Preision : 1.0\n",
      "Recall : 1.0\n",
      "F1 Score : 1.0\n",
      "\n",
      "Classp2:\n",
      "Preision : 1.0\n",
      "Recall : 1.0\n",
      "F1 Score : 1.0\n",
      "\n",
      "Classp3:\n",
      "Preision : 1.0\n",
      "Recall : 0.9996914532551682\n",
      "F1 Score : 0.9998457028236384\n",
      "\n",
      "Classp4:\n",
      "Preision : 0.9996156802459646\n",
      "Recall : 1.0\n",
      "F1 Score : 0.999807803190467\n",
      "\n"
     ]
    }
   ],
   "source": [
    "for i , v in enumerate(['p1' , 'p2' , 'p3' , 'p4']):\n",
    "    print(f\"Class{v}:\")\n",
    "    print(f\"Preision : {precision[i]}\")\n",
    "    print(f\"Recall : {recall[i]}\")\n",
    "    print(f\"F1 Score : {f1_score[i]}\")\n",
    "    print()"
   ]
  },
  {
   "cell_type": "code",
   "execution_count": 102,
   "id": "9f68c8b6",
   "metadata": {},
   "outputs": [
    {
     "name": "stdout",
     "output_type": "stream",
     "text": [
      "[[ 2489     0     0     0]\n",
      " [    0 12701     0     0]\n",
      " [    0     0  3240     1]\n",
      " [    0     0     0  2601]]\n"
     ]
    }
   ],
   "source": [
    "from sklearn.metrics import confusion_matrix\n",
    "print(confusion_matrix(y_test, y_pred_xgb))\n"
   ]
  },
  {
   "cell_type": "code",
   "execution_count": 103,
   "id": "225578f4",
   "metadata": {},
   "outputs": [
    {
     "name": "stdout",
     "output_type": "stream",
     "text": [
      "              precision    recall  f1-score   support\n",
      "\n",
      "          p1       1.00      1.00      1.00      2489\n",
      "          p2       1.00      1.00      1.00     12701\n",
      "          p3       1.00      1.00      1.00      3241\n",
      "          p4       1.00      1.00      1.00      2601\n",
      "\n",
      "    accuracy                           1.00     21032\n",
      "   macro avg       1.00      1.00      1.00     21032\n",
      "weighted avg       1.00      1.00      1.00     21032\n",
      "\n"
     ]
    }
   ],
   "source": [
    "from sklearn.metrics import classification_report\n",
    "print(classification_report(y_test, y_pred_xgb, target_names=['p1', 'p2', 'p3', 'p4']))\n"
   ]
  },
  {
   "cell_type": "code",
   "execution_count": 104,
   "id": "02e4da93",
   "metadata": {},
   "outputs": [
    {
     "name": "stdout",
     "output_type": "stream",
     "text": [
      "Classification Report:\n",
      "              precision    recall  f1-score   support\n",
      "\n",
      "          p1       1.00      1.00      1.00      2489\n",
      "          p2       1.00      1.00      1.00     12701\n",
      "          p3       1.00      1.00      1.00      3241\n",
      "          p4       1.00      1.00      1.00      2601\n",
      "\n",
      "    accuracy                           1.00     21032\n",
      "   macro avg       1.00      1.00      1.00     21032\n",
      "weighted avg       1.00      1.00      1.00     21032\n",
      "\n",
      "Accuracy: 0.9999524534043363\n",
      "Balanced Accuracy: 0.999922863313792\n",
      "Cohen Kappa Score: 0.9999183432152071\n",
      "Matthews Correlation Coefficient: 0.9999183471004695\n",
      "Hamming Loss: 4.754659566375048e-05\n",
      "Confusion Matrix:\n",
      "[[ 2489     0     0     0]\n",
      " [    0 12701     0     0]\n",
      " [    0     0  3240     1]\n",
      " [    0     0     0  2601]]\n"
     ]
    }
   ],
   "source": [
    "from sklearn.metrics import (\n",
    "    classification_report, confusion_matrix, accuracy_score,\n",
    "    balanced_accuracy_score, cohen_kappa_score, matthews_corrcoef, hamming_loss\n",
    ")\n",
    "\n",
    "print(\"Classification Report:\")\n",
    "print(classification_report(y_test, y_pred_xgb, target_names=['p1', 'p2', 'p3', 'p4']))\n",
    "print(\"Accuracy:\", accuracy_score(y_test, y_pred_xgb))\n",
    "print(\"Balanced Accuracy:\", balanced_accuracy_score(y_test, y_pred_xgb))\n",
    "print(\"Cohen Kappa Score:\", cohen_kappa_score(y_test, y_pred_xgb))\n",
    "print(\"Matthews Correlation Coefficient:\", matthews_corrcoef(y_test, y_pred_xgb))\n",
    "print(\"Hamming Loss:\", hamming_loss(y_test, y_pred_xgb))\n",
    "print(\"Confusion Matrix:\")\n",
    "print(confusion_matrix(y_test, y_pred_xgb))"
   ]
  },
  {
   "cell_type": "code",
   "execution_count": 105,
   "id": "073c0c53",
   "metadata": {},
   "outputs": [
    {
     "data": {
      "image/png": "[encoded data removed]",
      "text/plain": [
       "<Figure size 640x480 with 1 Axes>"
      ]
     },
     "metadata": {},
     "output_type": "display_data"
    }
   ],
   "source": [
    "import matplotlib.pyplot as plt\n",
    "xgb.plot_importance(xgb_classifier, max_num_features=20)\n",
    "plt.tight_layout()\n",
    "plt.show()\n"
   ]
  },
  {
   "cell_type": "code",
   "execution_count": 108,
   "id": "1a5ea2c0",
   "metadata": {},
   "outputs": [],
   "source": [
    "import xgboost as xgb\n",
    "from sklearn.preprocessing import LabelEncoder\n",
    "from sklearn.model_selection import train_test_split\n",
    "xgb_model = xgb.XGBClassifier(objective='multi:softmax', num_class=4)\n",
    "target = df_encoded['Approved_Flag']\n",
    "features = df_encoded.drop(['Approved_Flag', 'PROSPECTID'], axis=1) \n",
    "label_enc = LabelEncoder()\n",
    "target_encoded = label_enc.fit_transform(target)\n",
    "X_train, X_test, y_train, y_test = train_test_split(features, target_encoded, test_size=0.5, random_state=42)\n",
    "xgb_model.fit(X_train, y_train)\n",
    "xgb_predictions = xgb_model.predict(X_test)\n"
   ]
  },
  {
   "cell_type": "code",
   "execution_count": 109,
   "id": "f2787ee9",
   "metadata": {},
   "outputs": [
    {
     "name": "stdout",
     "output_type": "stream",
     "text": [
      "Classification Report:\n",
      "              precision    recall  f1-score   support\n",
      "\n",
      "          p1       0.98      0.97      0.97      2489\n",
      "          p2       1.00      1.00      1.00     12701\n",
      "          p3       0.98      0.98      0.98      3241\n",
      "          p4       1.00      1.00      1.00      2601\n",
      "\n",
      "    accuracy                           0.99     21032\n",
      "   macro avg       0.99      0.99      0.99     21032\n",
      "weighted avg       0.99      0.99      0.99     21032\n",
      "\n",
      "Accuracy: 0.9938664891593761\n",
      "Balanced Accuracy: 0.9881849468113262\n",
      "Cohen Kappa Score: 0.9894652905192911\n",
      "Matthews Correlation Coefficient: 0.9894691100473026\n",
      "Hamming Loss: 0.006133510840623811\n",
      "Confusion Matrix:\n",
      "[[ 2409     0    80     0]\n",
      " [    0 12701     0     0]\n",
      " [   48     0  3192     1]\n",
      " [    0     0     0  2601]]\n"
     ]
    }
   ],
   "source": [
    "from sklearn.metrics import (\n",
    "    classification_report, confusion_matrix, accuracy_score,\n",
    "    balanced_accuracy_score, cohen_kappa_score, matthews_corrcoef, hamming_loss\n",
    ")\n",
    "\n",
    "print(\"Classification Report:\")\n",
    "print(classification_report(y_test, xgb_predictions, target_names=['p1', 'p2', 'p3', 'p4']))\n",
    "\n",
    "print(\"Accuracy:\", accuracy_score(y_test, xgb_predictions))\n",
    "print(\"Balanced Accuracy:\", balanced_accuracy_score(y_test, xgb_predictions))\n",
    "print(\"Cohen Kappa Score:\", cohen_kappa_score(y_test, xgb_predictions))\n",
    "print(\"Matthews Correlation Coefficient:\", matthews_corrcoef(y_test, xgb_predictions))\n",
    "print(\"Hamming Loss:\", hamming_loss(y_test, xgb_predictions))\n",
    "print(\"Confusion Matrix:\")\n",
    "print(confusion_matrix(y_test, xgb_predictions))\n"
   ]
  },
  {
   "cell_type": "code",
   "execution_count": null,
   "id": "cf583449",
   "metadata": {},
   "outputs": [],
   "source": []
  }
 ],
 "metadata": {
  "kernelspec": {
   "display_name": "base",
   "language": "python",
   "name": "python3"
  },
  "language_info": {
   "codemirror_mode": {
    "name": "ipython",
    "version": 3
   },
   "file_extension": ".py",
   "mimetype": "text/x-python",
   "name": "python",
   "nbconvert_exporter": "python",
   "pygments_lexer": "ipython3",
   "version": "3.12.7"
  }
 },
 "nbformat": 4,
 "nbformat_minor": 5
}
